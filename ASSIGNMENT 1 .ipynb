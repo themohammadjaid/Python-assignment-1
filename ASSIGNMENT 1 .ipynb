{
 "cells": [
  {
   "cell_type": "code",
   "execution_count": null,
   "id": "d206d240-d6e8-4cae-a896-f882fde1af37",
   "metadata": {},
   "outputs": [],
   "source": [
    "Q1. explain with an example each when to use  a for loop and a while loop"
   ]
  },
  {
   "cell_type": "code",
   "execution_count": null,
   "id": "c0df736b-fa81-41af-85f8-71770eb0c0bf",
   "metadata": {},
   "outputs": [],
   "source": [
    "while loop:"
   ]
  },
  {
   "cell_type": "code",
   "execution_count": null,
   "id": "46bb0284-2d3e-4a58-b0b8-9684e0db0e05",
   "metadata": {},
   "outputs": [],
   "source": [
    "it wil check iterable value and it will repeat the statement until a given condition satisfied. "
   ]
  },
  {
   "cell_type": "code",
   "execution_count": 2,
   "id": "0664de04-cb60-41f0-ac32-8e3474450209",
   "metadata": {},
   "outputs": [
    {
     "name": "stdout",
     "output_type": "stream",
     "text": [
      "1\n",
      "2\n",
      "3\n",
      "4\n",
      "5\n",
      "6\n",
      "7\n",
      "8\n",
      "9\n",
      "10\n"
     ]
    }
   ],
   "source": [
    "mj = 1\n",
    "while mj <= 10:\n",
    "    print(mj)\n",
    "    mj = mj + 1 "
   ]
  },
  {
   "cell_type": "code",
   "execution_count": null,
   "id": "ea94a37d-910f-4b5d-80c1-8756f5f4e0ff",
   "metadata": {},
   "outputs": [],
   "source": [
    "for loop:"
   ]
  },
  {
   "cell_type": "code",
   "execution_count": null,
   "id": "0337b6dd-e68c-42a6-a83f-f8f561c7bc80",
   "metadata": {},
   "outputs": [],
   "source": [
    "it is used  to update the values of the operations "
   ]
  },
  {
   "cell_type": "code",
   "execution_count": 47,
   "id": "a29bae6f-0371-416e-9267-3416fd95bc93",
   "metadata": {},
   "outputs": [],
   "source": [
    "mj = [\"mohammadjaid, owais, zakir, husen\"]"
   ]
  },
  {
   "cell_type": "code",
   "execution_count": 49,
   "id": "f13d0f35-ae8c-4814-ada4-fa26c5c747b7",
   "metadata": {},
   "outputs": [
    {
     "name": "stdout",
     "output_type": "stream",
     "text": [
      "mohammadjaid, owais, zakir, husen\n"
     ]
    }
   ],
   "source": [
    "for mj in names:\n",
    "    print(mj)"
   ]
  },
  {
   "cell_type": "code",
   "execution_count": null,
   "id": "668e254f-e6e3-426c-8d10-b01868e3ecc1",
   "metadata": {},
   "outputs": [],
   "source": [
    "Q2. write a python program to print the sum and product of the first 100 natural number using for and while loop"
   ]
  },
  {
   "cell_type": "code",
   "execution_count": null,
   "id": "ac7a9152-374e-4b94-b62b-1b1400c819fd",
   "metadata": {},
   "outputs": [],
   "source": [
    "while loop:"
   ]
  },
  {
   "cell_type": "code",
   "execution_count": 51,
   "id": "98fa8acb-6c59-45de-90f8-79ba67b2bbf2",
   "metadata": {},
   "outputs": [],
   "source": [
    "mj = [12,23,34,56,67,78,89,99]"
   ]
  },
  {
   "cell_type": "code",
   "execution_count": 21,
   "id": "66a67c67-61e7-4a76-a30f-40788f03a559",
   "metadata": {},
   "outputs": [
    {
     "name": "stdout",
     "output_type": "stream",
     "text": [
      "The sum of first 10 natural number is  45\n",
      "The product of first 10 natural number is  362880\n"
     ]
    }
   ],
   "source": [
    "sum = 0\n",
    "prod = 1\n",
    "for mj in range(1, 10):\n",
    "    sum += mj\n",
    "    prod *= mj\n",
    "print(\"The sum of first 10 natural number is \", sum )\n",
    "print(\"The product of first 10 natural number is \", prod)"
   ]
  },
  {
   "cell_type": "code",
   "execution_count": null,
   "id": "e969ebe2-a672-4693-805c-c493e35ba55e",
   "metadata": {},
   "outputs": [],
   "source": [
    "Q3. Create a python program to compute the electricity bill for a household.\n",
    "The per-unit charges in rupees are as follows: For the first 100 units, the user will be charged Rs. 4.5 per unit, for the next 100 units, the user will be charged Rs. 6 per unit, and for the next 100 units, the user will be charged Rs. 10 per unit, After 300 units and above the user will be charged Rs. 20 per unit.\n",
    "You are required to take the units of electricity consumed in a month from the user as input.\n",
    "Your program must pass this test case: when the unit of electricity consumed by the user in a month is 310, the total electricity bill should be 2250."
   ]
  },
  {
   "cell_type": "code",
   "execution_count": 22,
   "id": "9d868065-e4c1-48a5-a7e5-00a56fe0a7e9",
   "metadata": {},
   "outputs": [
    {
     "name": "stdin",
     "output_type": "stream",
     "text": [
      "Enter the no of units of electricity used 340\n"
     ]
    },
    {
     "name": "stdout",
     "output_type": "stream",
     "text": [
      "The bill is Rs 3140\n"
     ]
    }
   ],
   "source": [
    "units = int(input(\"Enter the no of units of electricity used\"))\n",
    "bill = 0\n",
    "if (units <= 100):\n",
    "    bill += units*5.4\n",
    "    units -= 100\n",
    "if (units > 100 and units <= 200):\n",
    "    bill += 540\n",
    "    units -= 100\n",
    "    bill += units*6\n",
    "if (units > 200 and units <= 300):\n",
    "    bill += 540 + 600\n",
    "    units -= 200\n",
    "    bill += units*9\n",
    "if (units > 300):\n",
    "    bill += 540 + 600 + 1000\n",
    "    units -= 300\n",
    "    bill += units*25\n",
    "print(f\"The bill is Rs {bill}\")"
   ]
  },
  {
   "cell_type": "code",
   "execution_count": null,
   "id": "32a05f80-93e8-47d3-b407-dfb1353d1bec",
   "metadata": {},
   "outputs": [],
   "source": [
    "Q4. Create a list of numbers from 1 to 100. Use for loop and while loop to calculate cube of each number and if the cube of that number is divisible by 4 or 5 then append that number in a list and print that list."
   ]
  },
  {
   "cell_type": "code",
   "execution_count": null,
   "id": "6d844580-a051-4e32-a680-88975de1bd50",
   "metadata": {},
   "outputs": [],
   "source": [
    "l1 = list(range(1, 101))\n",
    "\n",
    "# Using for loop\n",
    "lf = []\n",
    "for i in l1:\n",
    "    c = i**2\n",
    "    r1 = c % 10\n",
    "    r2 = c % 100\n",
    "    r2 %= 4\n",
    "    if ((r1) == 0 or (r1) == 5 or (r2) == 0):\n",
    "        lf.append(i)\n",
    "\n",
    "print(f\"Using for loop \\n{lf}\")\n",
    "\n",
    "\n",
    "# Using while loop\n",
    "lw = []\n",
    "l = 1\n",
    "while (l <= len(l1)):\n",
    "    c = l**2\n",
    "    r1 = c % 10\n",
    "    r2 = c % 100\n",
    "    r2 %= 4\n",
    "    if ((r1) == 0 or (r1) == 5 or (r2) == 0):\n",
    "        lw.append(l)\n",
    "    l += 1\n",
    "\n",
    "print(f\"Using while loop \\n{lw}\")"
   ]
  },
  {
   "cell_type": "code",
   "execution_count": 1,
   "id": "f798b80f-3451-42c8-8258-f92dea630de6",
   "metadata": {},
   "outputs": [
    {
     "ename": "TypeError",
     "evalue": "'str' object does not support item assignment",
     "output_type": "error",
     "traceback": [
      "\u001b[0;31m---------------------------------------------------------------------------\u001b[0m",
      "\u001b[0;31mTypeError\u001b[0m                                 Traceback (most recent call last)",
      "Cell \u001b[0;32mIn[1], line 1\u001b[0m\n\u001b[0;32m----> 1\u001b[0m \u001b[38;5;124;43m'\u001b[39;49m\u001b[38;5;124;43mpwskills\u001b[39;49m\u001b[38;5;124;43m'\u001b[39;49m\u001b[43m[\u001b[49m\u001b[38;5;241;43m0\u001b[39;49m\u001b[43m]\u001b[49m\u001b[38;5;241m=\u001b[39m\u001b[38;5;124m'\u001b[39m\u001b[38;5;124mP\u001b[39m\u001b[38;5;124m'\u001b[39m\n",
      "\u001b[0;31mTypeError\u001b[0m: 'str' object does not support item assignment"
     ]
    }
   ],
   "source": [
    "'pwskills'[0]='P'"
   ]
  },
  {
   "cell_type": "code",
   "execution_count": null,
   "id": "be86fb24-e0e2-49a0-a0b3-1430e8804b79",
   "metadata": {},
   "outputs": [],
   "source": []
  }
 ],
 "metadata": {
  "kernelspec": {
   "display_name": "Python 3 (ipykernel)",
   "language": "python",
   "name": "python3"
  },
  "language_info": {
   "codemirror_mode": {
    "name": "ipython",
    "version": 3
   },
   "file_extension": ".py",
   "mimetype": "text/x-python",
   "name": "python",
   "nbconvert_exporter": "python",
   "pygments_lexer": "ipython3",
   "version": "3.10.8"
  }
 },
 "nbformat": 4,
 "nbformat_minor": 5
}
